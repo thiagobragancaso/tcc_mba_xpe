{
 "cells": [
  {
   "cell_type": "code",
   "execution_count": 43,
   "id": "8b23315b-d704-4ac8-b07e-77404d12bd64",
   "metadata": {
    "tags": []
   },
   "outputs": [],
   "source": [
    "from pyspark.sql import functions as F, types as T\n",
    "from pyspark.sql.window import Window\n",
    "from delta.tables import *"
   ]
  },
  {
   "cell_type": "code",
   "execution_count": 32,
   "id": "352ff09f-2eb9-4be4-bcbf-6ee28dab0153",
   "metadata": {
    "tags": []
   },
   "outputs": [],
   "source": [
    "df = spark.read.json(\"s3a://1-raw/topics/mongodb.PERFECT_STORE.SCORES/year=2024/month=06/day=30/*.json\")"
   ]
  },
  {
   "cell_type": "code",
   "execution_count": 33,
   "id": "2e4bf537-e9a2-4d2f-9977-0c2b2008f8c4",
   "metadata": {
    "tags": []
   },
   "outputs": [],
   "source": [
    "schema_document_id = T.StructType(\n",
    "    [\n",
    "        T.StructField(\"_id\", T.StructType([\n",
    "            T.StructField(\"$oid\", T.StringType(), False),\n",
    "        ]))\n",
    "    ]\n",
    ")\n",
    "\n",
    "schema_full_document = T.StructType(\n",
    "    [\n",
    "        T.StructField(\"point_of_sale\", T.StringType()),\n",
    "        T.StructField(\"name_promoter\", T.StringType()),\n",
    "        T.StructField(\"date\", T.DateType()),\n",
    "        T.StructField(\"pillars\", T.ArrayType(T.StructType([\n",
    "            T.StructField(\"name\", T.StringType()),\n",
    "            T.StructField(\"max_score\", T.IntegerType()),\n",
    "            T.StructField(\"score_achieved\", T.FloatType())\n",
    "        ]))),\n",
    "        T.StructField(\"update_date\", T.StructType([\n",
    "            T.StructField(\"$date\", T.LongType(), False)\n",
    "        ]), False)\n",
    "    ]\n",
    ")\n",
    "\n",
    "schema_cluster_time = T.StructType(\n",
    "    [\n",
    "        T.StructField(\"$timestamp\", T.StructType([\n",
    "            T.StructField(\"t\", T.LongType()),\n",
    "            T.StructField(\"i\", T.IntegerType())\n",
    "        ]))\n",
    "    ]\n",
    ")"
   ]
  },
  {
   "cell_type": "code",
   "execution_count": 34,
   "id": "e44d0f0b-3d32-4faa-9e7c-67ea3afd7802",
   "metadata": {
    "tags": []
   },
   "outputs": [],
   "source": [
    "df = df.withColumn(\"clusterTime\", F.from_json(\"clusterTime\", schema_cluster_time))\\\n",
    "       .select(F.col(\"*\"), F.col(\"clusterTime.$timestamp.t\"))"
   ]
  },
  {
   "cell_type": "code",
   "execution_count": 35,
   "id": "78860b8e-790c-4433-8e4d-ce2b5ea41778",
   "metadata": {
    "tags": []
   },
   "outputs": [],
   "source": [
    "df = df.withColumn(\"documentKey\", F.from_json(\"documentKey\", schema_document_id))\\\n",
    "       .select(F.col(\"*\"), F.col(\"documentKey._id.$oid\"))"
   ]
  },
  {
   "cell_type": "code",
   "execution_count": 36,
   "id": "7e38b7ba-094d-437e-837c-a908908b37d1",
   "metadata": {
    "tags": []
   },
   "outputs": [],
   "source": [
    "df = df.withColumn(\"fullDocument\", F.from_json(\"fullDocument\", schema_full_document))\\\n",
    "    .select(F.col('operationType'), F.col(\"$oid\"), F.col(\"t\"), F.col('fullDocument.*'))"
   ]
  },
  {
   "cell_type": "code",
   "execution_count": 37,
   "id": "5e23a28b-9b5b-4fda-a34b-3aa34f5cdb1f",
   "metadata": {
    "tags": []
   },
   "outputs": [],
   "source": [
    "renamed_columns = {\n",
    "    \"$oid\": \"id\",\n",
    "    \"t\": \"operation_time\"\n",
    "}"
   ]
  },
  {
   "cell_type": "code",
   "execution_count": 38,
   "id": "51c09a9c-f72a-4934-841b-437c7dde6dd0",
   "metadata": {
    "tags": []
   },
   "outputs": [],
   "source": [
    "df = df.select([F.col(c).alias(renamed_columns.get(c, c)) for c in df.columns])"
   ]
  },
  {
   "cell_type": "code",
   "execution_count": 39,
   "id": "66a8eb49-856b-4e94-aa8b-5794b2712628",
   "metadata": {
    "tags": []
   },
   "outputs": [],
   "source": [
    "df = df.withColumn(\"update_date\", F.col(\"update_date.$date\"))"
   ]
  },
  {
   "cell_type": "markdown",
   "id": "73d95c65-cbc5-47c9-b40f-19711ccd24f9",
   "metadata": {},
   "source": [
    "## Write data with format delta table"
   ]
  },
  {
   "cell_type": "code",
   "execution_count": 40,
   "id": "429733f6-0233-41f3-94e8-5225065ac831",
   "metadata": {
    "tags": []
   },
   "outputs": [
    {
     "name": "stdout",
     "output_type": "stream",
     "text": [
      "24/06/30 16:10:09 WARN HintErrorLogger: Hint (strategy=broadcast) is not supported in the query: build left for full outer join.\n",
      "24/06/30 16:10:09 WARN HintErrorLogger: Hint (strategy=broadcast) is not supported in the query: build left for full outer join.\n",
      "24/06/30 16:10:10 WARN HintErrorLogger: Hint (strategy=broadcast) is not supported in the query: build left for full outer join.\n"
     ]
    },
    {
     "name": "stderr",
     "output_type": "stream",
     "text": [
      "                                                                                \r"
     ]
    }
   ],
   "source": [
    "delta_table_path = \"s3a://2-bronze/perfect_store\"\n",
    "\n",
    "window_spec = Window.partitionBy(\"id\").orderBy(F.desc(\"operation_time\"))\n",
    "df_with_row_number = df.withColumn(\"row_number\", F.row_number().over(window_spec))\n",
    "\n",
    "# Filter to keep only the latest version for each 'id'\n",
    "df = df_with_row_number.filter(F.col(\"row_number\") == 1).drop(\"row_number\")\n",
    "\n",
    "if DeltaTable.isDeltaTable(spark, delta_table_path):\n",
    "    delta_table = DeltaTable.forPath(spark, delta_table_path)\n",
    "    delta_table.alias(\"target\").merge(\n",
    "        df.alias(\"source\"),\n",
    "        \"target.id = source.id\"\n",
    "    ).whenMatchedUpdateAll().whenNotMatchedInsertAll().execute()\n",
    "else:\n",
    "    df.write.format(\"delta\").save(delta_table_path)"
   ]
  },
  {
   "cell_type": "code",
   "execution_count": 46,
   "id": "ba23a16e-0a18-48a8-99db-8c840d4c9a0f",
   "metadata": {
    "tags": []
   },
   "outputs": [
    {
     "name": "stdout",
     "output_type": "stream",
     "text": [
      "+-------------+--------------------+--------------+-------------+-------------+----+-------+-----------+\n",
      "|operationType|                  id|operation_time|point_of_sale|name_promoter|date|pillars|update_date|\n",
      "+-------------+--------------------+--------------+-------------+-------------+----+-------+-----------+\n",
      "|       delete|667a0057cb4244b93...|    1719682492|         null|         null|null|   null|       null|\n",
      "+-------------+--------------------+--------------+-------------+-------------+----+-------+-----------+\n",
      "\n"
     ]
    }
   ],
   "source": [
    "df = spark.read.format(\"delta\") \\\n",
    "  .option(\"versionAsOf\", 1) \\\n",
    "  .load(\"s3a://2-bronze/perfect_store\")\n",
    "df.where(\"id = '667a0057cb4244b935fa70b5'\").show()"
   ]
  },
  {
   "cell_type": "code",
   "execution_count": 41,
   "id": "6adceb10-fbc5-41ca-815e-8e2962005200",
   "metadata": {},
   "outputs": [
    {
     "name": "stdout",
     "output_type": "stream",
     "text": [
      "+-------+-------------------+---------+--------------------+--------------------+--------------------+\n",
      "|version|          timestamp|operation| operationParameters|    operationMetrics|          engineInfo|\n",
      "+-------+-------------------+---------+--------------------+--------------------+--------------------+\n",
      "|      2|2024-06-30 16:10:10|    MERGE|{predicate -> (ta...|{numTargetRowsCop...|Apache-Spark/3.3....|\n",
      "|      1|2024-06-30 16:04:52|    MERGE|{predicate -> (ta...|{numTargetRowsCop...|Apache-Spark/3.3....|\n",
      "|      0|2024-06-30 15:15:17|    WRITE|{mode -> ErrorIfE...|{numFiles -> 8, n...|Apache-Spark/3.3....|\n",
      "+-------+-------------------+---------+--------------------+--------------------+--------------------+\n",
      "\n"
     ]
    }
   ],
   "source": [
    "# get the full history of the table\n",
    "delta_table_history = (DeltaTable\n",
    "                        .forPath(spark, delta_table_path)\n",
    "                        .history()\n",
    "                      )\n",
    "\n",
    "(delta_table_history\n",
    "   .select(\"version\", \"timestamp\", \"operation\", \"operationParameters\", \"operationMetrics\", \"engineInfo\")\n",
    "   .show()\n",
    ")"
   ]
  }
 ],
 "metadata": {
  "kernelspec": {
   "display_name": "Python 3 (ipykernel)",
   "language": "python",
   "name": "python3"
  },
  "language_info": {
   "codemirror_mode": {
    "name": "ipython",
    "version": 3
   },
   "file_extension": ".py",
   "mimetype": "text/x-python",
   "name": "python",
   "nbconvert_exporter": "python",
   "pygments_lexer": "ipython3",
   "version": "3.9.2"
  }
 },
 "nbformat": 4,
 "nbformat_minor": 5
}
